{
 "cells": [
  {
   "cell_type": "markdown",
   "metadata": {},
   "source": [
    "### Library Import"
   ]
  },
  {
   "cell_type": "code",
   "execution_count": null,
   "metadata": {},
   "outputs": [],
   "source": [
    "import yaml\n",
    "import numpy as np\n",
    "\n",
    "from datareader.sliding_window_generator import load_data_from_disk\n",
    "from datareader.utils import load_gt"
   ]
  },
  {
   "cell_type": "markdown",
   "metadata": {},
   "source": [
    "### Loading Dataset from Disk"
   ]
  },
  {
   "cell_type": "code",
   "execution_count": null,
   "metadata": {},
   "outputs": [],
   "source": [
    "data_config_file = open(\"configs/data.yaml\", mode=\"r\")\n",
    "data_cfg = yaml.load(data_config_file, Loader=yaml.FullLoader)"
   ]
  },
  {
   "cell_type": "code",
   "execution_count": null,
   "metadata": {},
   "outputs": [],
   "source": [
    "features, labels, label_dict = load_data_from_disk(data_config=data_cfg,\n",
    "                                        sliding_window_size=1.0,\n",
    "                                        split='train',\n",
    "                                        require_echo_profile=False,\n",
    "                                        is_train=True)"
   ]
  },
  {
   "cell_type": "code",
   "execution_count": null,
   "metadata": {},
   "outputs": [],
   "source": [
    "print(f\"[INFO] Feature Array Shape: {features['diff'][0].shape}; Length: {len(features['diff'])}\")\n",
    "print(f\"[INFO] Labels Array Shape: {len(labels)}\")\n",
    "print(label_dict)"
   ]
  },
  {
   "cell_type": "markdown",
   "metadata": {},
   "source": [
    "### Plotting Echo Profile Sliding Windows"
   ]
  },
  {
   "cell_type": "code",
   "execution_count": null,
   "metadata": {},
   "outputs": [],
   "source": [
    "from datareader.utils import plot_profiles\n",
    "import matplotlib.pyplot as plt\n",
    "import cv2\n",
    "import numpy as np\n",
    "\n",
    "def visualize_sliding_window(inp, label):\n",
    "    fig, axes = plt.subplots(nrows=1, ncols=len(inp),  figsize=(len(inp) * 2, 3), tight_layout=True)\n",
    "    \n",
    "    for channel in range(len(inp)):\n",
    "        echo_vis = plot_profiles(inp[channel])\n",
    "        echo_vis = cv2.cvtColor(echo_vis, cv2.COLOR_BGR2RGB)\n",
    "\n",
    "        axes[channel].imshow(echo_vis)\n",
    "        \n",
    "        axes[channel].set_title(f'Channel - {channel}')\n",
    "        axes[channel].set_xlabel('timestamp')\n",
    "    \n",
    "    fig.supylabel('feature')\n",
    "    fig.supxlabel(f'sliding window label: {label_dict[label]}')\n",
    "    plt.show()"
   ]
  },
  {
   "cell_type": "code",
   "execution_count": null,
   "metadata": {},
   "outputs": [],
   "source": [
    "idx = 10\n",
    "visualize_sliding_window(features['diff'][idx], labels[idx])"
   ]
  }
 ],
 "metadata": {
  "kernelspec": {
   "display_name": "torch",
   "language": "python",
   "name": "python3"
  },
  "language_info": {
   "codemirror_mode": {
    "name": "ipython",
    "version": 3
   },
   "file_extension": ".py",
   "mimetype": "text/x-python",
   "name": "python",
   "nbconvert_exporter": "python",
   "pygments_lexer": "ipython3",
   "version": "3.9.12"
  },
  "orig_nbformat": 4
 },
 "nbformat": 4,
 "nbformat_minor": 2
}
